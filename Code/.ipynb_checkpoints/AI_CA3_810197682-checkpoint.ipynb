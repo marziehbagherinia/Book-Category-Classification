{
 "cells": [
  {
   "cell_type": "markdown",
   "id": "529d6c8b",
   "metadata": {},
   "source": [
    "<h1 style = \"font-size: 30px; text-align: center;\">In the name of God</h1>\n",
    "<h2 style = \"font-size: 25px; text-align: center;\">AI CA3-Naive Bayes Classifier</h2>\n",
    "<h2 style = \"font-size: 25px; text-align: center; color: #666\">Name: Marzieh Bagherinia Amiri</h2>\n",
    "<h2 style = \"font-size: 25px; text-align: center; color: #666\">Student Id: 810197682 </h2>\n",
    "<h4 style=\"text-align: center\">Spring 1400</h4>"
   ]
  },
  {
   "cell_type": "markdown",
   "id": "2b4a7914",
   "metadata": {},
   "source": [
    "<div style=\"direction:rtl\">\n",
    "    <h2 style=\"font-family:B Nazanin; color:rgb(26, 26, 26)\">\n",
    "    ● هدف پروژه\n",
    "    </h2>\n",
    "</div>\n",
    "<div style=\"direction:rtl\">\n",
    "    <p style=\"font-family:B Nazanin; color:rgb(102, 102, 102); font-size: 20px; text-align: right\">\n",
    "        <br>هدف از انجام این پروژه پیش بینی دسته‌بندی هر کتاب با توجه به کلمات متن یا موضوع آن است.\n",
    "    </p>\n",
    "</div>"
   ]
  },
  {
   "cell_type": "markdown",
   "id": "71fd916c",
   "metadata": {},
   "source": [
    "<div style=\"direction:rtl\">\n",
    "    <h2 style=\"font-family:B Nazanin; color:rgb(26, 26, 26)\">\n",
    "    ● دیتاهای پروژه\n",
    "    </h2>\n",
    "</div>\n",
    "<div style=\"direction:rtl\">\n",
    "    <p style=\"font-family:B Nazanin; color:rgb(102, 102, 102); font-size: 20px; text-align: right\">\n",
    "  <br>در این پروژه یک فایل با نام books_train.csv داده شده، که در واقع داده ما برای train شدن است و یک فایل با نام books_test.csv قرار دارد که در واقع برای راستی‌آزمایی الگوریتمی که نوشتیم، قرار داده شده است. \n",
    "    </p>\n",
    "</div>"
   ]
  },
  {
   "cell_type": "markdown",
   "id": "30d4c778",
   "metadata": {},
   "source": [
    "<div style=\"direction:rtl\">\n",
    "    <h2 style=\"font-family:B Nazanin; color:rgb(26, 26, 26)\">\n",
    "    ● نکته\n",
    "    </h2>\n",
    "</div>\n",
    "<div style=\"direction:rtl\">\n",
    "    <p style=\"font-family:B Nazanin; color:rgb(102, 102, 102); font-size: 20px; text-align: right\">\n",
    "  <br>پاسخ تمامی سوالات، در انتهای پروژه قرار گرفته است.\n",
    "</div>"
   ]
  },
  {
   "cell_type": "code",
   "execution_count": 1,
   "id": "b5b40fe5",
   "metadata": {},
   "outputs": [],
   "source": [
    "import math\n",
    "import numpy as np\n",
    "import pandas as pd\n",
    "import matplotlib.pyplot as plt\n",
    "from hazm import *"
   ]
  },
  {
   "cell_type": "code",
   "execution_count": 2,
   "id": "4d9636e3",
   "metadata": {},
   "outputs": [],
   "source": [
    "train_df = pd.read_csv('books_train.csv')\n",
    "test_df = pd.read_csv('books_test.csv')"
   ]
  },
  {
   "cell_type": "code",
   "execution_count": 58,
   "id": "afe994c0",
   "metadata": {},
   "outputs": [],
   "source": [
    "stemmer = Stemmer()\n",
    "normalizer = Normalizer()\n",
    "lemmatizer = Lemmatizer()\n",
    "\n",
    "whiteSpace = [':','؟','.',',','«','»','(',')','،','[',']','{','}','-','','؛', '#', '\\r', '\\n']\n",
    "stopWord = [sw for sw in stopwords_list()]\n",
    "stopWord.extend(whiteSpace)\n",
    "categories = {0:'جامعه‌شناسی',\n",
    "              1: 'داستان کوتاه',\n",
    "              2:'داستان کودک و نوجوانان',\n",
    "              3:'کلیات اسلام',\n",
    "              4:'رمان',\n",
    "              5:'مدیریت و کسب و کار'}"
   ]
  },
  {
   "cell_type": "code",
   "execution_count": 47,
   "id": "e4cd6720",
   "metadata": {},
   "outputs": [],
   "source": [
    "kid = {'description': dict(), 'title': dict(), 'total': 0}\n",
    "short = {'description': dict(), 'title': dict(), 'total': 0}\n",
    "novel = {'description': dict(), 'title': dict(), 'total': 0}\n",
    "islamic = {'description': dict(), 'title': dict(), 'total': 0}\n",
    "business = {'description': dict(), 'title': dict(), 'total': 0}\n",
    "sociology = {'description': dict(), 'title': dict(), 'total': 0}\n",
    "                            \n",
    "def normalize_data(column, df):\n",
    "    \n",
    "    for index, row in df.iterrows():\n",
    "        bag = [word for word in word_tokenize(normalizer.normalize(row[column]))]\n",
    "        bag = list(filter(lambda word: word not in stopWord, bag))\n",
    "        bag = [lemmatizer.lemmatize(word) for word in bag]\n",
    "        \n",
    "        for word in bag:\n",
    "            cat = row['categories']\n",
    "                \n",
    "            if (cat == categories[0]):\n",
    "                if word not in sociology[column]:\n",
    "                    sociology[column][word] = 0\n",
    "                sociology[column][word] += 1\n",
    "                sociology['total'] += 1\n",
    "\n",
    "            if (cat == categories[1]):\n",
    "                if word not in short[column]:\n",
    "                    short[column][word] = 0\n",
    "                short[column][word] += 1\n",
    "                short['total'] += 1\n",
    "                \n",
    "            if (cat == categories[2]):\n",
    "                if word not in kid[column]:\n",
    "                    kid[column][word] = 0\n",
    "                kid[column][word] += 1\n",
    "                kid['total'] += 1\n",
    "                \n",
    "            if (cat == categories[3]):\n",
    "                if word not in islamic[column]:\n",
    "                    islamic[column][word] = 0\n",
    "                islamic[column][word] += 1\n",
    "                islamic['total'] += 1\n",
    "                \n",
    "            if (cat == categories[4]):\n",
    "                if word not in novel[column]:\n",
    "                    novel[column][word] = 0\n",
    "                novel[column][word]+= 1\n",
    "                novel['total'] += 1\n",
    "                \n",
    "            if (cat == categories[5]):\n",
    "                if word not in business[column]:\n",
    "                    business[column][word] = 0\n",
    "                business[column][word] += 1\n",
    "                business['total'] += 1\n",
    "                "
   ]
  },
  {
   "cell_type": "code",
   "execution_count": 48,
   "id": "ea751353",
   "metadata": {},
   "outputs": [],
   "source": [
    "normalize_data('description', train_df)\n",
    "normalize_data('title', train_df)"
   ]
  },
  {
   "cell_type": "code",
   "execution_count": 62,
   "id": "fe7f4c6c",
   "metadata": {},
   "outputs": [
    {
     "data": {
      "image/png": "[encoded data removed]",
      "text/plain": [
       "<Figure size 432x288 with 1 Axes>"
      ]
     },
     "metadata": {
      "needs_background": "light"
     },
     "output_type": "display_data"
    },
    {
     "data": {
      "image/png": "[encoded data removed]",
      "text/plain": [
       "<Figure size 432x288 with 1 Axes>"
      ]
     },
     "metadata": {
      "needs_background": "light"
     },
     "output_type": "display_data"
    },
    {
     "data": {
      "image/png": "[encoded data removed]",
      "text/plain": [
       "<Figure size 432x288 with 1 Axes>"
      ]
     },
     "metadata": {
      "needs_background": "light"
     },
     "output_type": "display_data"
    },
    {
     "data": {
      "image/png": "[encoded data removed]",
      "text/plain": [
       "<Figure size 432x288 with 1 Axes>"
      ]
     },
     "metadata": {
      "needs_background": "light"
     },
     "output_type": "display_data"
    },
    {
     "data": {
      "image/png": "[encoded data removed]",
      "text/plain": [
       "<Figure size 432x288 with 1 Axes>"
      ]
     },
     "metadata": {
      "needs_background": "light"
     },
     "output_type": "display_data"
    },
    {
     "data": {
      "image/png": "[encoded data removed]",
      "text/plain": [
       "<Figure size 432x288 with 1 Axes>"
      ]
     },
     "metadata": {
      "needs_background": "light"
     },
     "output_type": "display_data"
    }
   ],
   "source": [
    "def show_plot(category, title, col):\n",
    "    res = dict(sorted(category['description'].items(), key = lambda x: x[1], reverse = True)[:6])\n",
    "    plt.bar(res.keys(), res.values(), color = col)\n",
    "    plt.title(title)\n",
    "    plt.show()\n",
    "    \n",
    "show_plot(sociology, \"Sociology Book\", 'black')\n",
    "show_plot(short, \"Short Story\", 'blue')\n",
    "show_plot(kid, \"Kids Story\", 'green')\n",
    "show_plot(islamic, \"Islamic Book\", 'cyan')\n",
    "show_plot(novel, \"Novel\", 'red')\n",
    "show_plot(business, \"Business Book\", 'pink')\n"
   ]
  },
  {
   "cell_type": "code",
   "execution_count": 53,
   "id": "1ccb221b",
   "metadata": {},
   "outputs": [],
   "source": [
    "correct_detected_class = [0, 0, 0, 0, 0 , 0]\n",
    "detected_class = [0, 0, 0, 0, 0 , 0]\n",
    "total_class = [0, 0, 0, 0, 0 , 0]\n",
    "\n",
    "incorrect_detected = []\n",
    "\n",
    "def get_key(val):\n",
    "    for key, value in categories.items():\n",
    "         if val == value:\n",
    "            return key\n",
    "        \n",
    "def find_category(df, smooth):    \n",
    "    smoothVal = [0, 0, 0, 0, 0, 0]\n",
    "    if smooth != 0:\n",
    "        smoothVal[0] = len(list(sociology['description'].keys()))\n",
    "        smoothVal[1] = len(list(short['description'].keys()))\n",
    "        smoothVal[2] = len(list(kid['description'].keys()))\n",
    "        smoothVal[3] = len(list(islamic['description'].keys()))\n",
    "        smoothVal[4] = len(list(novel['description'].keys()))\n",
    "        smoothVal[5] = len(list(business['description'].keys()))\n",
    "    \n",
    "    for index, row in df.iterrows():\n",
    "        bag = [word for word in word_tokenize(normalizer.normalize(row['description']))]\n",
    "        bag = list(filter(lambda word: word not in stopWord, bag))\n",
    "        bag = [lemmatizer.lemmatize(word) for word in bag]\n",
    "        \n",
    "        probs = [0, 0, 0, 0, 0, 0]\n",
    "    \n",
    "        len(list(sociology['description'].keys()))\n",
    "    \n",
    "        for word in bag:\n",
    "            if word in sociology['description']:\n",
    "                probs[0] += math.log(((sociology['description'][word] + smooth)/(sociology['total'] + smooth*smoothVal[0])),10)\n",
    "            else:\n",
    "                probs[0] += math.log(((pow(10,-8) + smooth)/(sociology['total'] + smooth*smoothVal[0])),10)\n",
    "\n",
    "            if word in short['description']:\n",
    "                probs[1] += math.log(((short['description'][word] + smooth)/(short['total'] + smooth*smoothVal[1])),10)\n",
    "            else:\n",
    "                probs[1] += math.log(((pow(10,-8) + smooth)/(short['total']+smooth*smoothVal[1])),10)\n",
    "\n",
    "            if word in kid['description']:\n",
    "                probs[2] += math.log(((kid['description'][word] + smooth)/(kid['total'] + smooth*smoothVal[2])),10)\n",
    "            else:\n",
    "                probs[2] += math.log(((pow(10,-8) + smooth)/(kid['total'] + smooth*smoothVal[2])),10)\n",
    "                \n",
    "            if word in islamic['description']:\n",
    "                probs[3] += math.log(((islamic['description'][word] + smooth)/(islamic['total'] + smooth*smoothVal[3])),10)\n",
    "            else:\n",
    "                probs[3] += math.log(((pow(10,-8) + smooth)/(islamic['total'] + smooth*smoothVal[3])),10)\n",
    "                \n",
    "            if word in novel['description']:\n",
    "                probs[4] += math.log(((novel['description'][word] + smooth)/(novel['total'] + smooth*smoothVal[4])),10)\n",
    "            else:\n",
    "                probs[4] += math.log(((pow(10,-8) + smooth)/(novel['total'] + smooth*smoothVal[4])),10)\n",
    "\n",
    "            if word in business['description']:\n",
    "                probs[5] += math.log(((business['description'][word] + smooth)/(business['total'] + smooth*smoothVal[5])),10)\n",
    "            else:\n",
    "                probs[5] += math.log(((pow(10,-8) + smooth)/(business['total'] + smooth*smoothVal[5])),10)\n",
    "                                     \n",
    "        detected_class[probs.index(max(probs))] += 1\n",
    "        total_class[get_key(row['categories'])] += 1\n",
    "        \n",
    "        if (row['categories'] == categories[probs.index(max(probs))]):\n",
    "            correct_detected_class[probs.index(max(probs))] += 1\n",
    "        else:\n",
    "            incorrect_detected.append(row['title'])"
   ]
  },
  {
   "cell_type": "code",
   "execution_count": 54,
   "id": "af5bc30b",
   "metadata": {},
   "outputs": [],
   "source": [
    "def evaluation():\n",
    "    for i in range (6):\n",
    "        print(\"Category \", categories[i], \":\")\n",
    "        precision = correct_detected_class[i]/detected_class[i]\n",
    "        recall = correct_detected_class[i]/total_class[i]\n",
    "        f1 = 2*precision*recall/(precision + recall)\n",
    "        print(\"Precision: \", precision)\n",
    "        print(\"Recall: \", recall)\n",
    "        print(\"F1: \", f1)\n",
    "        print()\n",
    "        \n",
    "    print()\n",
    "    print(\"Accuracy: \", sum(correct_detected_class)/sum(total_class))"
   ]
  },
  {
   "cell_type": "code",
   "execution_count": 55,
   "id": "493bef1e",
   "metadata": {},
   "outputs": [
    {
     "name": "stdout",
     "output_type": "stream",
     "text": [
      "Category  جامعه‌شناسی :\n",
      "Precision:  0.7127659574468085\n",
      "Recall:  0.8933333333333333\n",
      "F1:  0.7928994082840236\n",
      "\n",
      "Category  داستان کوتاه :\n",
      "Precision:  0.546875\n",
      "Recall:  0.4666666666666667\n",
      "F1:  0.5035971223021581\n",
      "\n",
      "Category  داستان کودک و نوجوانان :\n",
      "Precision:  0.9230769230769231\n",
      "Recall:  0.64\n",
      "F1:  0.7559055118110237\n",
      "\n",
      "Category  کلیات اسلام :\n",
      "Precision:  0.9666666666666667\n",
      "Recall:  0.7733333333333333\n",
      "F1:  0.8592592592592593\n",
      "\n",
      "Category  رمان :\n",
      "Precision:  0.5398230088495575\n",
      "Recall:  0.8133333333333334\n",
      "F1:  0.648936170212766\n",
      "\n",
      "Category  مدیریت و کسب و کار :\n",
      "Precision:  0.9552238805970149\n",
      "Recall:  0.8533333333333334\n",
      "F1:  0.9014084507042254\n",
      "\n",
      "\n",
      "Accuracy:  0.74\n"
     ]
    }
   ],
   "source": [
    "find_category(test_df, 0)\n",
    "evaluation()"
   ]
  },
  {
   "cell_type": "code",
   "execution_count": 56,
   "id": "c0ea40f1",
   "metadata": {},
   "outputs": [
    {
     "name": "stdout",
     "output_type": "stream",
     "text": [
      "Category  جامعه‌شناسی :\n",
      "Precision:  0.7542857142857143\n",
      "Recall:  0.88\n",
      "F1:  0.8123076923076923\n",
      "\n",
      "Category  داستان کوتاه :\n",
      "Precision:  0.6475409836065574\n",
      "Recall:  0.5266666666666666\n",
      "F1:  0.5808823529411764\n",
      "\n",
      "Category  داستان کودک و نوجوانان :\n",
      "Precision:  0.6982248520710059\n",
      "Recall:  0.7866666666666666\n",
      "F1:  0.7398119122257053\n",
      "\n",
      "Category  کلیات اسلام :\n",
      "Precision:  0.9375\n",
      "Recall:  0.8\n",
      "F1:  0.8633093525179856\n",
      "\n",
      "Category  رمان :\n",
      "Precision:  0.6296296296296297\n",
      "Recall:  0.68\n",
      "F1:  0.6538461538461539\n",
      "\n",
      "Category  مدیریت و کسب و کار :\n",
      "Precision:  0.9305555555555556\n",
      "Recall:  0.8933333333333333\n",
      "F1:  0.9115646258503401\n",
      "\n",
      "\n",
      "Accuracy:  0.7611111111111111\n"
     ]
    }
   ],
   "source": [
    "find_category(test_df, 1)\n",
    "evaluation()"
   ]
  },
  {
   "cell_type": "markdown",
   "id": "b7f23d92",
   "metadata": {},
   "source": [
    "<div style=\"direction:rtl\">\n",
    "    <h2 style=\"font-family:B Nazanin; color:rgb(26, 26, 26); font-size:30px\">\n",
    "    ● سوالات\n",
    "    </h2>\n",
    "</div>\n",
    "<div style=\"direction:rtl\">\n",
    "    <h2 style=\"font-family:B Nazanin; color:rgb(102, 102, 102); font-size:25px\">\n",
    "     <br>\n",
    "      ○ سوال شماره یک\n",
    "    </h2>\n",
    "</div>\n",
    "<div style=\"direction:rtl\">\n",
    "    <p style=\"font-family:B Nazanin; color:rgb(102, 102, 102); font-size: 20px; text-align: right\">\n",
    "        <br>تفاوت Stemming و Lemmatization:\n",
    "        <br>در استیمینگ قسمت‌های اضافی ابتدا و انتهای کلمه، مثل ها، ام، اید و ... حذف می‌شوند اما اما در لمیتیزشن، کلمه به فرم ریشه‌ی واقعی‌اش در می‌آید. مثلا می‌روم تبدیل به رو می‌شود.\n",
    "    </p>\n",
    "</div>\n",
    "<div>\n",
    "    <h2 style=\"font-family:B Nazanin; color:rgb(102, 102, 102); font-size:25px\">\n",
    "     <br>\n",
    "      ○ Effect on Accuracy\n",
    "    </h2>\n",
    "</div>\n",
    "<table style=\"width:100%;\">\n",
    "  <tr style=\"border: 2px solid black;\">\n",
    "    <th style=\"padding: 5px; text-align: center;\"> </th>\n",
    "    <th style=\"border: 2px solid black; text-align: center;\">Without Smoothing</th>\n",
    "    <th style=\"border: 2px solid black; text-align: center;\">With Smoothing</th>\n",
    "\n",
    "  </tr>\n",
    "  <tr style=\"border: 2px solid black;\">\n",
    "    <td style=\"padding: 5px; text-align: center;\">Stemming</td>\n",
    "    <td style=\"border: 2px solid black; text-align: center;\">0.72</td>\n",
    "    <td style=\"border: 2px solid black; text-align: center;\">0.75</td>\n",
    "      \n",
    "  </tr>\n",
    "  <tr style=\"border: 2px solid black;\">\n",
    "    <td style=\"padding: 5px; text-align: center;\">Lemmatization </td>\n",
    "    <td style=\"border: 2px solid black; text-align: center;\">0.74</td>\n",
    "    <td style=\"border: 2px solid black; text-align: center;\">0.7611111111111111</td>      \n",
    "  </tr>\n",
    "  <tr style=\"border: 2px solid black;\">\n",
    "    <td style=\"padding: 5px; text-align: center;\">Both</td>\n",
    "    <td style=\"border: 2px solid black; text-align: center;\">0.7088888888888889</td>\n",
    "    <td style=\"border: 2px solid black; text-align: center;\">0.7455555555555555</td> \n",
    "\n",
    "  </tr>\n",
    "  <tr style=\"border: 2px solid black;\">\n",
    "    <td style=\"padding: 5px; text-align: center;\">None</td>\n",
    "    <td style=\"border: 2px solid black; text-align: center;\">0.7311111111111112</td>\n",
    "    <td style=\"border: 2px solid black; text-align: center;\">0.7188888888888889</td>\n",
    "  </tr>\n",
    "</table>\n",
    "\n",
    "<div style=\"direction:rtl\">\n",
    "    <h2 style=\"font-family:B Nazanin; color:rgb(102, 102, 102); font-size:25px\">\n",
    "     <br>\n",
    "      ○ سوال شماره دو\n",
    "    </h2>\n",
    "</div>\n",
    "<div style=\"direction:rtl\">\n",
    "    <p style=\"font-family:B Nazanin; color:rgb(102, 102, 102); font-size: 20px; text-align: right\">\n",
    "        <br> احتمال با فرض اینکه کتاب به دسته‌ای تعلق دارد یا خیر بررسی می‌شود:\n",
    "        <br>class prior probability : احتمال این که یک کتاب به یک دسته‌ی خاص تعلق داشه باشد بدون داشتن هیچ اطلاعات اضافی دیگری.\n",
    "        <br>Posterior probability: احتمال این که یک کتاب به یک دسته‌ی خاص تعلق داشه باشد با فرض اینکه یک کلمه خاص دیده شود.\n",
    "        <br>likelihood: احتمال وجود یک لغت در شرایطی که بدانیم کتاب از کدام کتگوری است.\n",
    "        <br> 𝑥: احتمال دیدن یک کلمه!\n",
    "        <br> c: احتمال تعلق به یک کتگوری\n",
    "    </p>\n",
    "</div>\n",
    "<div style=\"direction:rtl\">\n",
    "    <h2 style=\"font-family:B Nazanin; color:rgb(102, 102, 102); font-size:25px\">\n",
    "     <br>\n",
    "      ○ سوال شماره سه\n",
    "    </h2>\n",
    "</div>\n",
    "<div style=\"direction:rtl\">\n",
    "    <p style=\"font-family:B Nazanin; color:rgb(102, 102, 102); font-size: 20px; text-align: right\">\n",
    "        <br> جمله اول: سیر میوه بسیار مقیدی برای تقویت سیستم ایمنی بدن است.\n",
    "        <br> جمله دوم: کودکان خیلی زود از غذا خوردن سیر می‌شوند.\n",
    "        <br> کلمه مشترک «سیر» است که در دو معنای متفاوت به کار رفته است.\n",
    "        <br> برای مثال بررسی Biagram به صورت میوه سیر، باعث می‌شود تا آن را با قطعیت از Biagram به صورت کودک سیر جدا کنیم؛ گاهی لازم است از n-gram هم استفاده کنیم و این زمانی است که تعداد n تا کلمه لازم باشد تا معنی و ددسته بندی عبارت مشخص شود.\n",
    "</div>\n",
    "<div style=\"direction:rtl\">\n",
    "    <h2 style=\"font-family:B Nazanin; color:rgb(102, 102, 102); font-size:25px\">\n",
    "     <br>\n",
    "      ○ سوال شماره چهار\n",
    "    </h2>\n",
    "</div>\n",
    "<div style=\"direction:rtl\">\n",
    "    <p style=\"font-family:B Nazanin; color:rgb(102, 102, 102); font-size: 20px; text-align: right\">\n",
    "        <br> در صورتی که یک کلمه فقط در یک نوع کتگوری موجود باشد، الگوریتم ، Naive Bayes قطعاً آن کتگوری را به عنوان پاسخ انتخاب می کند که لزوما انتخاب درستی نمی‌باشد. علت هم این است که در این صورت، p(x|c) = 0 خواهد بود و چون از log استفاده می‌کنیم، log(0) = -inf که این باعث می‌شود تاثیر سایر کلمات متن از بین رود و در نهایت احتمال تعلق به آن کتگوری که برابر با مجموع احتمال p(xi|c)هاست، -inf شود و این کتگوری هیچگاه انتخاب نشود که خب لزوما تصمیم‌گیری درستی نیست.\n",
    "</div>\n",
    "<div style=\"direction:rtl\">\n",
    "    <h2 style=\"font-family:B Nazanin; color:rgb(102, 102, 102); font-size:25px\">\n",
    "     <br>\n",
    "      ○ سوال شماره پنج\n",
    "    </h2>\n",
    "</div>\n",
    "<div style=\"direction:rtl\">\n",
    "    <p style=\"font-family:B Nazanin; color:rgb(102, 102, 102); font-size: 20px; text-align: right\">\n",
    "        <br>در این روش، اگر یک کلمه، در کتاب‌های یک کتگوری موجود هم نباشد، ما احتمال آن را صفر در نظر نمی‌گیریم و به جای آن احتمال آن را تقریبا برابر زیر در نظر می‌گیریم:\n",
    "</div>\n",
    "<div>\n",
    "    <p style=\"font-family:B Nazanin; color:rgb(102, 102, 102); font-size: 20px\">\n",
    "        <br>p = (1 + 0.0001)/(num_of_all_word_in_that_case + variety of words on that category)\n",
    "</div>\n",
    "<div style=\"direction:rtl\">\n",
    "    <h2 style=\"font-family:B Nazanin; color:rgb(102, 102, 102); font-size:25px\">\n",
    "     <br>\n",
    "      ○ سوال شماره شش\n",
    "    </h2>\n",
    "</div>\n",
    "<div style=\"direction:rtl\">\n",
    "    <p style=\"font-family:B Nazanin; color:rgb(102, 102, 102); font-size: 20px; text-align: right\">\n",
    "        <br>قبل‌تر نمودارهای درخواستی این سوال رسم شده است.\n",
    "</div>\n",
    "<div style=\"direction:rtl\">\n",
    "    <h2 style=\"font-family:B Nazanin; color:rgb(102, 102, 102); font-size:25px\">\n",
    "     <br>\n",
    "      ○ سوال شماره هفت\n",
    "    </h2>\n",
    "</div>\n",
    "<div style=\"direction:rtl\">\n",
    "    <p style=\"font-family:B Nazanin; color:rgb(102, 102, 102); font-size: 20px; text-align: right\">\n",
    "        <br> کدمان همیشه کلاس ۹۹ درصدی را خروجی دهد، کار خاصی نکرده است. پس باید معیار دیگه‌ای را انتخاب کنیم.برای مثال: \n",
    "فرض کنید الگوریتم ما قرار است با توجه به نظراتی که درباره یک محصول داده می‌شود، تشخبص دهد که آن کالا خوب است یا نه! برای نصفی از حالات پیشنهاد شده و نشده درست پیش‌بینی می‌کند.\n",
    "اگر محصول ما خوب باشد، پس کاربران زیادی پیش‌نهادش می‌کنند و فقط درصد کمی هستند که پیش‌نهادش نمی‌کنند. پس طبق فرمول، پرسیشن بالایی داریم و ریکال کمی. همچنین اگر محصول ما محصول خوبی نباشد، طبق فرمول می‌رسیم به این که ریکال خوبی داریم و پرسیشن کمی. با این که الگوریتم ما کار مهمی نکرده و نصفی از داده‌های هر کلاس را اشتباه می‌گوید.\n",
    "</div>\n",
    "<div style=\"direction:rtl\">\n",
    "    <h2 style=\"font-family:B Nazanin; color:rgb(102, 102, 102); font-size:25px\">\n",
    "     <br>\n",
    "      ○ سوال شماره هشت\n",
    "    </h2>\n",
    "</div>\n",
    "<div style=\"direction:rtl\">\n",
    "    <p style=\"font-family:B Nazanin; color:rgb(102, 102, 102); font-size: 20px; text-align: right\">\n",
    "        <br>در این میانگین نتیجه بیشتر به عدد کمتر (میان precision و recall) نزدیک است؛ اهمیت این میانگین این است که در آن هر دو عدد تاثیرگذار هستند و نمی‌توان با زیاد کردن دیگری میانگین را بالا برد پس از انتخاب تریدآف خیلی بد جلوگیری می‌کند و لازم است که دو عدد با هم متناسب باشند.\n",
    "</div>\n",
    "<div style=\"direction:rtl\">\n",
    "    <h2 style=\"font-family:B Nazanin; color:rgb(102, 102, 102); font-size:25px\">\n",
    "     <br>\n",
    "      ○ سوال شماره نه\n",
    "    </h2>\n",
    "</div>\n",
    "<div style=\"direction:rtl\">\n",
    "    <p style=\"font-family:B Nazanin; color:rgb(102, 102, 102); font-size: 20px; text-align: right\">\n",
    "        <br>Micro: میانگین معمولی بین تمامی f1 هاست.\n",
    "        <br>Macro: همان مقدار Accuracy است.\n",
    "        <br>Weighted: به هر اف۱ یکبا توجه به تعداد سمپل‌هایی که از یک کلاس موجود است، به هر f1 یک ورن می‌دهد و با توجه به آن وزن‌ها از داده‌ها میانگین وزن‌دار می‌گیرد.\n",
    "</div>\n",
    "<div style=\"direction:rtl\">\n",
    "    <h2 style=\"font-family:B Nazanin; color:rgb(102, 102, 102); font-size:25px\">\n",
    "     <br>\n",
    "      ○ سوال شماره ده\n",
    "    </h2>\n",
    "</div>\n",
    "<div style=\"direction:rtl\">\n",
    "    <p style=\"font-family:B Nazanin; color:rgb(102, 102, 102); font-size: 20px; text-align: right\">\n",
    "        <br>قبل‌تر انجام شد.\n",
    "<div style=\"direction:rtl\">\n",
    "    <h2 style=\"font-family:B Nazanin; color:rgb(102, 102, 102); font-size:25px\">\n",
    "     <br>\n",
    "      ○ سوال شماره یازده\n",
    "    </h2>\n",
    "</div>\n",
    "<div style=\"direction:rtl\">\n",
    "    <p style=\"font-family:B Nazanin; color:rgb(102, 102, 102); font-size: 20px; text-align: right\">\n",
    "        <br> زمانی که از Smoothing استفاده می‌کنیم، نتیجه بهتری می‌گیریم چرا که از گرفتن تصمیم قطعی برای کلماتی که در یک کتگوری نیامده‌اند جلگوری می‌کنیم و همین شانس (حتی کوچکی) که برای آنها قرار می‌دهیم در نتیجه تاثیر گذاشته است؛ نکته‌ی مهم دیگر تفاوت پرسیشن و ریکال در نبودن Smoothing است. که دور از ذهن هم نبود با توجه به تاثیری که استفاده از Smoothing دارد و در بالا آن را توضیح دادیم.\n",
    "</div>\n",
    "<div style=\"direction:rtl\">\n",
    "    <h2 style=\"font-family:B Nazanin; color:rgb(102, 102, 102); font-size:25px\">\n",
    "     <br>\n",
    "      ○ سوال شماره دوازده\n",
    "    </h2>\n",
    "</div>\n",
    "<div style=\"direction:rtl\">\n",
    "    <p style=\"font-family:B Nazanin; color:rgb(102, 102, 102); font-size: 20px; text-align: right\">\n",
    "        <br>راهکار‌های بهتر شدن اگوریتم:\n",
    "        <br>دلیل اشتباه در این تست‌ها به نظر می‌تواند مشکل در تعداد کم بودن داده‌های آموزش باشد یا می‌تواند بد بودن پیش‌پردازشمان باشد که کلمات پر تکراری که در اکثر دسته‌ها بودند را حذف نکردیم یا از توابع lemmatization استفاده کردیم که به خوبی ریشه کلمات را نیافته است.\n",
    "        <br>5 مورد از این پیش‌بینی‌های اشتباه در ادامه آمده است:\n",
    "</div>"
   ]
  },
  {
   "cell_type": "code",
   "execution_count": 57,
   "id": "1fe95b28",
   "metadata": {},
   "outputs": [
    {
     "data": {
      "text/plain": [
       "['کآشوب',\n",
       " 'اسلام و چالش اقتصادی',\n",
       " 'دری در دیوار',\n",
       " 'مطلقاً تقریباً',\n",
       " 'موش و گربه']"
      ]
     },
     "execution_count": 57,
     "metadata": {},
     "output_type": "execute_result"
    }
   ],
   "source": [
    "incorrect_detected[0:5]"
   ]
  }
 ],
 "metadata": {
  "kernelspec": {
   "display_name": "Python 3",
   "language": "python",
   "name": "python3"
  },
  "language_info": {
   "codemirror_mode": {
    "name": "ipython",
    "version": 3
   },
   "file_extension": ".py",
   "mimetype": "text/x-python",
   "name": "python",
   "nbconvert_exporter": "python",
   "pygments_lexer": "ipython3",
   "version": "3.8.5"
  }
 },
 "nbformat": 4,
 "nbformat_minor": 5
}
